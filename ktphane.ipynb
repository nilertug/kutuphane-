{
  "nbformat": 4,
  "nbformat_minor": 0,
  "metadata": {
    "colab": {
      "provenance": [],
      "authorship_tag": "ABX9TyOXZawbw08I9eGIAVuUgf8s",
      "include_colab_link": true
    },
    "kernelspec": {
      "name": "python3",
      "display_name": "Python 3"
    },
    "language_info": {
      "name": "python"
    }
  },
  "cells": [
    {
      "cell_type": "markdown",
      "metadata": {
        "id": "view-in-github",
        "colab_type": "text"
      },
      "source": [
        "<a href=\"https://colab.research.google.com/github/nilertug/kutuphane-/blob/main/ktphane.ipynb\" target=\"_parent\"><img src=\"https://colab.research.google.com/assets/colab-badge.svg\" alt=\"Open In Colab\"/></a>"
      ]
    },
    {
      "cell_type": "code",
      "execution_count": null,
      "metadata": {
        "id": "QEdy-DoQuUz6"
      },
      "outputs": [],
      "source": [
        "open(\"kitaplar.txt\", \"a\", encoding=\"utf-8\").close()\n",
        "while True:\n",
        "  print(\"Kitap eklemek için '1'\")\n",
        "  print(\"Kitap aramak için '2'\")\n",
        "  print(\"Menüden çıkmak için '3'\")\n",
        "  islem=input(\"lütfen yapmak istediğiniz işlemin numarasını yazınız\")\n",
        "  if islem==\"1\":\n",
        "    k_adi=input(\"Kitabın ismini giriniz\")\n",
        "    k_yazar=input(\"Kitabın yazarını giriniz\")\n",
        "    k_tur=input(\"Kitabın türünü giriniz\")\n",
        "    yeni_kitap = f\"{k_adi} - {k_yazar} - {k_tur}\"\n",
        "    with open(\"kitaplar.txt\", \"r\", encoding=\"utf-8\") as dosya:\n",
        "      kitaplar = [satir.strip().lower() for satir in dosya]\n",
        "    if yeni_kitap.lower() in kitaplar:\n",
        "      print(\"Kitap zaten mevcut. Eklenemedi.\")\n",
        "    else:\n",
        "      with open(\"kitaplar.txt\", \"a\", encoding=\"utf-8\") as dosya:\n",
        "            dosya.write(yeni_kitap + \"\\n\")\n",
        "            print(\"Kitap eklendi.\")\n",
        "  elif islem==\"2\":\n",
        "    arama=input(\"Kitap aramak için kelime girin\")\n",
        "    kitap= False\n",
        "    with open(\"kitaplar.txt\", \"r\", encoding=\"utf-8\") as dosya:\n",
        "      for satir in dosya:\n",
        "         if arama.lower() in satir.lower():\n",
        "            print(\"Kitap mevcut. \" + satir.strip())\n",
        "            kitap=True\n",
        "      if not kitap:\n",
        "            print(\" Aradığınız kitap yok.\")\n",
        "  elif islem==\"3\":\n",
        "    print(\"Menü kapatılıyor.\")\n",
        "    break\n",
        "  else:\n",
        "    print(\"Hatalı yazım. Lütfen 1,2,3 sayılarından birini tuşlayın.\")"
      ]
    }
  ]
}